{
 "cells": [
  {
   "cell_type": "code",
   "execution_count": 3,
   "metadata": {},
   "outputs": [
    {
     "name": "stdout",
     "output_type": "stream",
     "text": [
      "Collecting pyhwpxNote: you may need to restart the kernel to use updated packages.\n",
      "\n",
      "  Using cached pyhwpx-0.41.2-py3-none-any.whl.metadata (2.1 kB)\n",
      "Requirement already satisfied: numpy in c:\\users\\thdco\\appdata\\local\\packages\\pythonsoftwarefoundation.python.3.11_qbz5n2kfra8p0\\localcache\\local-packages\\python311\\site-packages (from pyhwpx) (2.1.3)\n",
      "Requirement already satisfied: pandas in c:\\users\\thdco\\appdata\\local\\packages\\pythonsoftwarefoundation.python.3.11_qbz5n2kfra8p0\\localcache\\local-packages\\python311\\site-packages (from pyhwpx) (2.2.3)\n",
      "Requirement already satisfied: pywin32 in c:\\users\\thdco\\appdata\\local\\packages\\pythonsoftwarefoundation.python.3.11_qbz5n2kfra8p0\\localcache\\local-packages\\python311\\site-packages (from pyhwpx) (308)\n",
      "Collecting openpyxl (from pyhwpx)\n",
      "  Using cached openpyxl-3.1.5-py2.py3-none-any.whl.metadata (2.5 kB)\n",
      "Requirement already satisfied: pyperclip in c:\\users\\thdco\\appdata\\local\\packages\\pythonsoftwarefoundation.python.3.11_qbz5n2kfra8p0\\localcache\\local-packages\\python311\\site-packages (from pyhwpx) (1.9.0)\n",
      "Requirement already satisfied: Pillow in c:\\users\\thdco\\appdata\\local\\packages\\pythonsoftwarefoundation.python.3.11_qbz5n2kfra8p0\\localcache\\local-packages\\python311\\site-packages (from pyhwpx) (11.0.0)\n",
      "Requirement already satisfied: et-xmlfile in c:\\users\\thdco\\appdata\\local\\packages\\pythonsoftwarefoundation.python.3.11_qbz5n2kfra8p0\\localcache\\local-packages\\python311\\site-packages (from openpyxl->pyhwpx) (2.0.0)\n",
      "Requirement already satisfied: python-dateutil>=2.8.2 in c:\\users\\thdco\\appdata\\local\\packages\\pythonsoftwarefoundation.python.3.11_qbz5n2kfra8p0\\localcache\\local-packages\\python311\\site-packages (from pandas->pyhwpx) (2.9.0.post0)\n",
      "Requirement already satisfied: pytz>=2020.1 in c:\\users\\thdco\\appdata\\local\\packages\\pythonsoftwarefoundation.python.3.11_qbz5n2kfra8p0\\localcache\\local-packages\\python311\\site-packages (from pandas->pyhwpx) (2024.2)\n",
      "Requirement already satisfied: tzdata>=2022.7 in c:\\users\\thdco\\appdata\\local\\packages\\pythonsoftwarefoundation.python.3.11_qbz5n2kfra8p0\\localcache\\local-packages\\python311\\site-packages (from pandas->pyhwpx) (2024.2)\n",
      "Requirement already satisfied: six>=1.5 in c:\\users\\thdco\\appdata\\local\\packages\\pythonsoftwarefoundation.python.3.11_qbz5n2kfra8p0\\localcache\\local-packages\\python311\\site-packages (from python-dateutil>=2.8.2->pandas->pyhwpx) (1.16.0)\n",
      "Using cached pyhwpx-0.41.2-py3-none-any.whl (148 kB)\n",
      "Using cached openpyxl-3.1.5-py2.py3-none-any.whl (250 kB)\n",
      "Installing collected packages: openpyxl, pyhwpx\n",
      "Successfully installed openpyxl-3.1.5 pyhwpx-0.41.2\n"
     ]
    },
    {
     "name": "stderr",
     "output_type": "stream",
     "text": [
      "\n",
      "[notice] A new release of pip is available: 24.0 -> 24.3.1\n",
      "[notice] To update, run: C:\\Users\\thdco\\AppData\\Local\\Microsoft\\WindowsApps\\PythonSoftwareFoundation.Python.3.11_qbz5n2kfra8p0\\python.exe -m pip install --upgrade pip\n"
     ]
    }
   ],
   "source": [
    "%pip install pyhwpx"
   ]
  },
  {
   "cell_type": "code",
   "execution_count": 5,
   "metadata": {},
   "outputs": [
    {
     "data": {
      "text/plain": [
       "False"
      ]
     },
     "execution_count": 5,
     "metadata": {},
     "output_type": "execute_result"
    }
   ],
   "source": [
    "from pyhwpx import Hwp\n",
    "import win32com.client as win32\n",
    "import pandas as pd\n",
    "hwp = Hwp()\n",
    "hwp.Open(r\"../dongtemplate.hwp\") # 주간행사계획 한글파일 상대경로"
   ]
  },
  {
   "cell_type": "code",
   "execution_count": null,
   "metadata": {},
   "outputs": [],
   "source": [
    "def time_column_initail(): \n",
    "    hwp.set_pos(15,0,0)\n",
    "    hwp.TableCellBlock() #그냥 테이블 셀 선택\n",
    "    hwp.TableCellBlockExtend() #선택된셀에서 f5누른거랑 같은 기능\n",
    "    hwp.TableColPageDown()\n",
    "    hwp.set_cur_field_name(\"time\")\n",
    "time_column_initail()\n",
    "#시간 column 전부다 선택하는 기능"
   ]
  },
  {
   "cell_type": "code",
   "execution_count": null,
   "metadata": {},
   "outputs": [],
   "source": [
    "#데이터 전처리\n",
    "df = pd.read_excel(r\"../dongdummy.xlsx\")\n",
    "#엑셀에서 더미데이터 read\n",
    "df = df.replace(r'\\n', '', regex=True)\n",
    "# 데이터안에 \\n 다지우기\n",
    "\n",
    "df = df.fillna(\" \")  # NaN 값을 으로 채우기\n",
    "df.tail()"
   ]
  },
  {
   "cell_type": "code",
   "execution_count": null,
   "metadata": {},
   "outputs": [],
   "source": [
    "date_counts = df['date'].value_counts()\n",
    "date_counts"
   ]
  },
  {
   "cell_type": "code",
   "execution_count": null,
   "metadata": {},
   "outputs": [],
   "source": [
    "import re\n",
    "#위에처럼 count순으로 sort된다 \n",
    "#string 날짜데이터를 날짜순으로 sort하는 코드\n",
    "date_counts = df['date'].value_counts().reset_index()\n",
    "date_counts.columns = ['date', 'count']  # 열 이름 지정\n",
    "\n",
    "# 월과 일만 추출하는 함수 정의\n",
    "def extract_month_day(date_str):\n",
    "    match = re.search(r'(\\d+)\\.\\s*(\\d+)', date_str)\n",
    "    if match:\n",
    "        return int(match.group(1)), int(match.group(2))  # 월, 일 반환\n",
    "    return None\n",
    "\n",
    "# 'month', 'day' 열 추가\n",
    "date_counts[['month', 'day']] = date_counts['date'].apply(lambda x: pd.Series(extract_month_day(x)))\n",
    "\n",
    "# 월과 일 기준으로 정렬\n",
    "date_counts = date_counts.sort_values(by=['month', 'day']).drop(columns=['month', 'day']).reset_index(drop=True)\n",
    "\n",
    "#date 컬럼만\n",
    "date_column_df = date_counts[['date']]\n",
    "\n",
    "# 정렬된 결과 출력\n",
    "print(date_counts)"
   ]
  },
  {
   "cell_type": "code",
   "execution_count": null,
   "metadata": {},
   "outputs": [],
   "source": [
    "# print(count_value)\n",
    "\n",
    "\n",
    "for index, row in date_counts.iterrows():\n",
    "    pset = hwp.HParameterSet.HTableDeleteLine\n",
    "    hwp.move_to_field(f'time{{{{{0+2*index}}}}}')\n",
    "    print(index)\n",
    "    count = row['count']\n",
    "    \n",
    "    if count>2 :\n",
    "        for i in range(count - 2):\n",
    "            hwp.TableAppendRow()\n",
    "            print(f\"{index}\" + \": append\" )\n",
    "    elif (count == 2):\n",
    "        continue\n",
    "    else :\n",
    "        hwp.TableLowerCell()\n",
    "        hwp.HAction.GetDefault(\"TableDeleteRow\", pset.HSet)\n",
    "        #TLqkf\n",
    "        hwp.HAction.Execute(\"TableDeleteRow\", pset.HSet)\n",
    "        print(f\"{index}\"+\": delete\" )\n",
    "        \n",
    "        \n",
    "    "
   ]
  },
  {
   "cell_type": "code",
   "execution_count": null,
   "metadata": {},
   "outputs": [],
   "source": [
    "#date 제외 데이터 넣기\n",
    "df_no_date = df.drop(columns=['date'])\n",
    "hwp.set_pos(15,0,0)\n",
    "# 셀 전부 선택하는 코드 ->\n",
    "hwp.TableCellBlock()\n",
    "hwp.TableCellBlockExtend()\n",
    "hwp.TableColEnd()\n",
    "hwp.TableColPageDown()\n",
    "# 선택된 셀을 imsi필드로 바꾸고 \n",
    "hwp.set_cur_field_name(\"imsi\")\n",
    "\n",
    "hwp.put_field_text(\"imsi\", df_no_date.values.flatten().tolist())\n"
   ]
  },
  {
   "cell_type": "code",
   "execution_count": null,
   "metadata": {},
   "outputs": [],
   "source": [
    "# date 데이터 넣기\n",
    "for index, row in date_column_df.iterrows():\n",
    "    hwp.move_to_field(f'date{{{{{index}}}}}')\n",
    "    hwp.insert_text(row['date'])\n",
    "    print(row['date'])"
   ]
  }
 ],
 "metadata": {
  "kernelspec": {
   "display_name": "Python 3",
   "language": "python",
   "name": "python3"
  },
  "language_info": {
   "codemirror_mode": {
    "name": "ipython",
    "version": 3
   },
   "file_extension": ".py",
   "mimetype": "text/x-python",
   "name": "python",
   "nbconvert_exporter": "python",
   "pygments_lexer": "ipython3",
   "version": "3.11.9"
  }
 },
 "nbformat": 4,
 "nbformat_minor": 2
}
